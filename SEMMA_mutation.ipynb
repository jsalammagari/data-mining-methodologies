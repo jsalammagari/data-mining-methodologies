{
  "nbformat": 4,
  "nbformat_minor": 0,
  "metadata": {
    "colab": {
      "provenance": []
    },
    "kernelspec": {
      "name": "python3",
      "display_name": "Python 3"
    },
    "language_info": {
      "name": "python"
    }
  },
  "cells": [
    {
      "cell_type": "markdown",
      "source": [
        "**Sample Explore Modify Model Access - Breast Cancer Gene Expression Profiles (METABRIC)**"
      ],
      "metadata": {
        "id": "HSNR_6BbJxQE"
      }
    },
    {
      "cell_type": "markdown",
      "source": [
        "**Sample**"
      ],
      "metadata": {
        "id": "eoxD4e0QH7Jf"
      }
    },
    {
      "cell_type": "markdown",
      "source": [
        "**The below blocks of code is to load the data and understand its basic structure**"
      ],
      "metadata": {
        "id": "PU6X7XJXM6GZ"
      }
    },
    {
      "cell_type": "code",
      "execution_count": 2,
      "metadata": {
        "colab": {
          "base_uri": "https://localhost:8080/",
          "height": 73
        },
        "id": "ElFllKYcH0v5",
        "outputId": "8a179b49-dbb8-4c9a-b9ed-0d288405f88c"
      },
      "outputs": [
        {
          "output_type": "display_data",
          "data": {
            "text/plain": [
              "<IPython.core.display.HTML object>"
            ],
            "text/html": [
              "\n",
              "     <input type=\"file\" id=\"files-5d0543b7-716b-466a-a898-6d2fcc0b1e0f\" name=\"files[]\" multiple disabled\n",
              "        style=\"border:none\" />\n",
              "     <output id=\"result-5d0543b7-716b-466a-a898-6d2fcc0b1e0f\">\n",
              "      Upload widget is only available when the cell has been executed in the\n",
              "      current browser session. Please rerun this cell to enable.\n",
              "      </output>\n",
              "      <script>// Copyright 2017 Google LLC\n",
              "//\n",
              "// Licensed under the Apache License, Version 2.0 (the \"License\");\n",
              "// you may not use this file except in compliance with the License.\n",
              "// You may obtain a copy of the License at\n",
              "//\n",
              "//      http://www.apache.org/licenses/LICENSE-2.0\n",
              "//\n",
              "// Unless required by applicable law or agreed to in writing, software\n",
              "// distributed under the License is distributed on an \"AS IS\" BASIS,\n",
              "// WITHOUT WARRANTIES OR CONDITIONS OF ANY KIND, either express or implied.\n",
              "// See the License for the specific language governing permissions and\n",
              "// limitations under the License.\n",
              "\n",
              "/**\n",
              " * @fileoverview Helpers for google.colab Python module.\n",
              " */\n",
              "(function(scope) {\n",
              "function span(text, styleAttributes = {}) {\n",
              "  const element = document.createElement('span');\n",
              "  element.textContent = text;\n",
              "  for (const key of Object.keys(styleAttributes)) {\n",
              "    element.style[key] = styleAttributes[key];\n",
              "  }\n",
              "  return element;\n",
              "}\n",
              "\n",
              "// Max number of bytes which will be uploaded at a time.\n",
              "const MAX_PAYLOAD_SIZE = 100 * 1024;\n",
              "\n",
              "function _uploadFiles(inputId, outputId) {\n",
              "  const steps = uploadFilesStep(inputId, outputId);\n",
              "  const outputElement = document.getElementById(outputId);\n",
              "  // Cache steps on the outputElement to make it available for the next call\n",
              "  // to uploadFilesContinue from Python.\n",
              "  outputElement.steps = steps;\n",
              "\n",
              "  return _uploadFilesContinue(outputId);\n",
              "}\n",
              "\n",
              "// This is roughly an async generator (not supported in the browser yet),\n",
              "// where there are multiple asynchronous steps and the Python side is going\n",
              "// to poll for completion of each step.\n",
              "// This uses a Promise to block the python side on completion of each step,\n",
              "// then passes the result of the previous step as the input to the next step.\n",
              "function _uploadFilesContinue(outputId) {\n",
              "  const outputElement = document.getElementById(outputId);\n",
              "  const steps = outputElement.steps;\n",
              "\n",
              "  const next = steps.next(outputElement.lastPromiseValue);\n",
              "  return Promise.resolve(next.value.promise).then((value) => {\n",
              "    // Cache the last promise value to make it available to the next\n",
              "    // step of the generator.\n",
              "    outputElement.lastPromiseValue = value;\n",
              "    return next.value.response;\n",
              "  });\n",
              "}\n",
              "\n",
              "/**\n",
              " * Generator function which is called between each async step of the upload\n",
              " * process.\n",
              " * @param {string} inputId Element ID of the input file picker element.\n",
              " * @param {string} outputId Element ID of the output display.\n",
              " * @return {!Iterable<!Object>} Iterable of next steps.\n",
              " */\n",
              "function* uploadFilesStep(inputId, outputId) {\n",
              "  const inputElement = document.getElementById(inputId);\n",
              "  inputElement.disabled = false;\n",
              "\n",
              "  const outputElement = document.getElementById(outputId);\n",
              "  outputElement.innerHTML = '';\n",
              "\n",
              "  const pickedPromise = new Promise((resolve) => {\n",
              "    inputElement.addEventListener('change', (e) => {\n",
              "      resolve(e.target.files);\n",
              "    });\n",
              "  });\n",
              "\n",
              "  const cancel = document.createElement('button');\n",
              "  inputElement.parentElement.appendChild(cancel);\n",
              "  cancel.textContent = 'Cancel upload';\n",
              "  const cancelPromise = new Promise((resolve) => {\n",
              "    cancel.onclick = () => {\n",
              "      resolve(null);\n",
              "    };\n",
              "  });\n",
              "\n",
              "  // Wait for the user to pick the files.\n",
              "  const files = yield {\n",
              "    promise: Promise.race([pickedPromise, cancelPromise]),\n",
              "    response: {\n",
              "      action: 'starting',\n",
              "    }\n",
              "  };\n",
              "\n",
              "  cancel.remove();\n",
              "\n",
              "  // Disable the input element since further picks are not allowed.\n",
              "  inputElement.disabled = true;\n",
              "\n",
              "  if (!files) {\n",
              "    return {\n",
              "      response: {\n",
              "        action: 'complete',\n",
              "      }\n",
              "    };\n",
              "  }\n",
              "\n",
              "  for (const file of files) {\n",
              "    const li = document.createElement('li');\n",
              "    li.append(span(file.name, {fontWeight: 'bold'}));\n",
              "    li.append(span(\n",
              "        `(${file.type || 'n/a'}) - ${file.size} bytes, ` +\n",
              "        `last modified: ${\n",
              "            file.lastModifiedDate ? file.lastModifiedDate.toLocaleDateString() :\n",
              "                                    'n/a'} - `));\n",
              "    const percent = span('0% done');\n",
              "    li.appendChild(percent);\n",
              "\n",
              "    outputElement.appendChild(li);\n",
              "\n",
              "    const fileDataPromise = new Promise((resolve) => {\n",
              "      const reader = new FileReader();\n",
              "      reader.onload = (e) => {\n",
              "        resolve(e.target.result);\n",
              "      };\n",
              "      reader.readAsArrayBuffer(file);\n",
              "    });\n",
              "    // Wait for the data to be ready.\n",
              "    let fileData = yield {\n",
              "      promise: fileDataPromise,\n",
              "      response: {\n",
              "        action: 'continue',\n",
              "      }\n",
              "    };\n",
              "\n",
              "    // Use a chunked sending to avoid message size limits. See b/62115660.\n",
              "    let position = 0;\n",
              "    do {\n",
              "      const length = Math.min(fileData.byteLength - position, MAX_PAYLOAD_SIZE);\n",
              "      const chunk = new Uint8Array(fileData, position, length);\n",
              "      position += length;\n",
              "\n",
              "      const base64 = btoa(String.fromCharCode.apply(null, chunk));\n",
              "      yield {\n",
              "        response: {\n",
              "          action: 'append',\n",
              "          file: file.name,\n",
              "          data: base64,\n",
              "        },\n",
              "      };\n",
              "\n",
              "      let percentDone = fileData.byteLength === 0 ?\n",
              "          100 :\n",
              "          Math.round((position / fileData.byteLength) * 100);\n",
              "      percent.textContent = `${percentDone}% done`;\n",
              "\n",
              "    } while (position < fileData.byteLength);\n",
              "  }\n",
              "\n",
              "  // All done.\n",
              "  yield {\n",
              "    response: {\n",
              "      action: 'complete',\n",
              "    }\n",
              "  };\n",
              "}\n",
              "\n",
              "scope.google = scope.google || {};\n",
              "scope.google.colab = scope.google.colab || {};\n",
              "scope.google.colab._files = {\n",
              "  _uploadFiles,\n",
              "  _uploadFilesContinue,\n",
              "};\n",
              "})(self);\n",
              "</script> "
            ]
          },
          "metadata": {}
        },
        {
          "output_type": "stream",
          "name": "stdout",
          "text": [
            "Saving mutation.csv to mutation.csv\n"
          ]
        }
      ],
      "source": [
        "import pandas as pd\n",
        "\n",
        "# Loading the dataset\n",
        "# Load the dataset\n",
        "from google.colab import files\n",
        "uploaded = files.upload()\n",
        "data = pd.read_csv('mutation.csv')"
      ]
    },
    {
      "cell_type": "code",
      "source": [
        "# Displaying the first few rows of the dataset\n",
        "data.head()"
      ],
      "metadata": {
        "colab": {
          "base_uri": "https://localhost:8080/",
          "height": 359
        },
        "id": "nCG86CqPIODL",
        "outputId": "1e9f288e-1e73-430a-ba72-133325192389"
      },
      "execution_count": 3,
      "outputs": [
        {
          "output_type": "execute_result",
          "data": {
            "text/plain": [
              "   patient_id  age_at_diagnosis type_of_breast_surgery    cancer_type  \\\n",
              "0           0             75.65             MASTECTOMY  Breast Cancer   \n",
              "1           2             43.19      BREAST CONSERVING  Breast Cancer   \n",
              "2           5             48.87             MASTECTOMY  Breast Cancer   \n",
              "3           6             47.68             MASTECTOMY  Breast Cancer   \n",
              "4           8             76.97             MASTECTOMY  Breast Cancer   \n",
              "\n",
              "                        cancer_type_detailed cellularity  chemotherapy  \\\n",
              "0           Breast Invasive Ductal Carcinoma         NaN             0   \n",
              "1           Breast Invasive Ductal Carcinoma        High             0   \n",
              "2           Breast Invasive Ductal Carcinoma        High             1   \n",
              "3  Breast Mixed Ductal and Lobular Carcinoma    Moderate             1   \n",
              "4  Breast Mixed Ductal and Lobular Carcinoma        High             1   \n",
              "\n",
              "  pam50_+_claudin-low_subtype  cohort er_status_measured_by_ihc  ...  \\\n",
              "0                 claudin-low       1                   Positve  ...   \n",
              "1                        LumA       1                   Positve  ...   \n",
              "2                        LumB       1                   Positve  ...   \n",
              "3                        LumB       1                   Positve  ...   \n",
              "4                        LumB       1                   Positve  ...   \n",
              "\n",
              "  integrative_cluster  primary_tumor_laterality lymph_nodes_examined_positive  \\\n",
              "0                4ER+                     Right                            10   \n",
              "1                4ER+                     Right                             0   \n",
              "2                   3                     Right                             1   \n",
              "3                   9                     Right                             3   \n",
              "4                   9                     Right                             8   \n",
              "\n",
              "  mutation_count nottingham_prognostic_index  oncotree_code  \\\n",
              "0            NaN                       6.044            IDC   \n",
              "1            2.0                       4.020            IDC   \n",
              "2            2.0                       4.030            IDC   \n",
              "3            1.0                       4.050           MDLC   \n",
              "4            2.0                       6.080           MDLC   \n",
              "\n",
              "  overall_survival_months overall_survival pr_status  radio_therapy  \n",
              "0              140.500000                1  Negative              1  \n",
              "1               84.633333                1  Positive              1  \n",
              "2              163.700000                0  Positive              0  \n",
              "3              164.933333                1  Positive              1  \n",
              "4               41.366667                0  Positive              1  \n",
              "\n",
              "[5 rows x 27 columns]"
            ],
            "text/html": [
              "\n",
              "  <div id=\"df-eaa3a850-6ec4-4e6f-a8d0-9be5558db862\" class=\"colab-df-container\">\n",
              "    <div>\n",
              "<style scoped>\n",
              "    .dataframe tbody tr th:only-of-type {\n",
              "        vertical-align: middle;\n",
              "    }\n",
              "\n",
              "    .dataframe tbody tr th {\n",
              "        vertical-align: top;\n",
              "    }\n",
              "\n",
              "    .dataframe thead th {\n",
              "        text-align: right;\n",
              "    }\n",
              "</style>\n",
              "<table border=\"1\" class=\"dataframe\">\n",
              "  <thead>\n",
              "    <tr style=\"text-align: right;\">\n",
              "      <th></th>\n",
              "      <th>patient_id</th>\n",
              "      <th>age_at_diagnosis</th>\n",
              "      <th>type_of_breast_surgery</th>\n",
              "      <th>cancer_type</th>\n",
              "      <th>cancer_type_detailed</th>\n",
              "      <th>cellularity</th>\n",
              "      <th>chemotherapy</th>\n",
              "      <th>pam50_+_claudin-low_subtype</th>\n",
              "      <th>cohort</th>\n",
              "      <th>er_status_measured_by_ihc</th>\n",
              "      <th>...</th>\n",
              "      <th>integrative_cluster</th>\n",
              "      <th>primary_tumor_laterality</th>\n",
              "      <th>lymph_nodes_examined_positive</th>\n",
              "      <th>mutation_count</th>\n",
              "      <th>nottingham_prognostic_index</th>\n",
              "      <th>oncotree_code</th>\n",
              "      <th>overall_survival_months</th>\n",
              "      <th>overall_survival</th>\n",
              "      <th>pr_status</th>\n",
              "      <th>radio_therapy</th>\n",
              "    </tr>\n",
              "  </thead>\n",
              "  <tbody>\n",
              "    <tr>\n",
              "      <th>0</th>\n",
              "      <td>0</td>\n",
              "      <td>75.65</td>\n",
              "      <td>MASTECTOMY</td>\n",
              "      <td>Breast Cancer</td>\n",
              "      <td>Breast Invasive Ductal Carcinoma</td>\n",
              "      <td>NaN</td>\n",
              "      <td>0</td>\n",
              "      <td>claudin-low</td>\n",
              "      <td>1</td>\n",
              "      <td>Positve</td>\n",
              "      <td>...</td>\n",
              "      <td>4ER+</td>\n",
              "      <td>Right</td>\n",
              "      <td>10</td>\n",
              "      <td>NaN</td>\n",
              "      <td>6.044</td>\n",
              "      <td>IDC</td>\n",
              "      <td>140.500000</td>\n",
              "      <td>1</td>\n",
              "      <td>Negative</td>\n",
              "      <td>1</td>\n",
              "    </tr>\n",
              "    <tr>\n",
              "      <th>1</th>\n",
              "      <td>2</td>\n",
              "      <td>43.19</td>\n",
              "      <td>BREAST CONSERVING</td>\n",
              "      <td>Breast Cancer</td>\n",
              "      <td>Breast Invasive Ductal Carcinoma</td>\n",
              "      <td>High</td>\n",
              "      <td>0</td>\n",
              "      <td>LumA</td>\n",
              "      <td>1</td>\n",
              "      <td>Positve</td>\n",
              "      <td>...</td>\n",
              "      <td>4ER+</td>\n",
              "      <td>Right</td>\n",
              "      <td>0</td>\n",
              "      <td>2.0</td>\n",
              "      <td>4.020</td>\n",
              "      <td>IDC</td>\n",
              "      <td>84.633333</td>\n",
              "      <td>1</td>\n",
              "      <td>Positive</td>\n",
              "      <td>1</td>\n",
              "    </tr>\n",
              "    <tr>\n",
              "      <th>2</th>\n",
              "      <td>5</td>\n",
              "      <td>48.87</td>\n",
              "      <td>MASTECTOMY</td>\n",
              "      <td>Breast Cancer</td>\n",
              "      <td>Breast Invasive Ductal Carcinoma</td>\n",
              "      <td>High</td>\n",
              "      <td>1</td>\n",
              "      <td>LumB</td>\n",
              "      <td>1</td>\n",
              "      <td>Positve</td>\n",
              "      <td>...</td>\n",
              "      <td>3</td>\n",
              "      <td>Right</td>\n",
              "      <td>1</td>\n",
              "      <td>2.0</td>\n",
              "      <td>4.030</td>\n",
              "      <td>IDC</td>\n",
              "      <td>163.700000</td>\n",
              "      <td>0</td>\n",
              "      <td>Positive</td>\n",
              "      <td>0</td>\n",
              "    </tr>\n",
              "    <tr>\n",
              "      <th>3</th>\n",
              "      <td>6</td>\n",
              "      <td>47.68</td>\n",
              "      <td>MASTECTOMY</td>\n",
              "      <td>Breast Cancer</td>\n",
              "      <td>Breast Mixed Ductal and Lobular Carcinoma</td>\n",
              "      <td>Moderate</td>\n",
              "      <td>1</td>\n",
              "      <td>LumB</td>\n",
              "      <td>1</td>\n",
              "      <td>Positve</td>\n",
              "      <td>...</td>\n",
              "      <td>9</td>\n",
              "      <td>Right</td>\n",
              "      <td>3</td>\n",
              "      <td>1.0</td>\n",
              "      <td>4.050</td>\n",
              "      <td>MDLC</td>\n",
              "      <td>164.933333</td>\n",
              "      <td>1</td>\n",
              "      <td>Positive</td>\n",
              "      <td>1</td>\n",
              "    </tr>\n",
              "    <tr>\n",
              "      <th>4</th>\n",
              "      <td>8</td>\n",
              "      <td>76.97</td>\n",
              "      <td>MASTECTOMY</td>\n",
              "      <td>Breast Cancer</td>\n",
              "      <td>Breast Mixed Ductal and Lobular Carcinoma</td>\n",
              "      <td>High</td>\n",
              "      <td>1</td>\n",
              "      <td>LumB</td>\n",
              "      <td>1</td>\n",
              "      <td>Positve</td>\n",
              "      <td>...</td>\n",
              "      <td>9</td>\n",
              "      <td>Right</td>\n",
              "      <td>8</td>\n",
              "      <td>2.0</td>\n",
              "      <td>6.080</td>\n",
              "      <td>MDLC</td>\n",
              "      <td>41.366667</td>\n",
              "      <td>0</td>\n",
              "      <td>Positive</td>\n",
              "      <td>1</td>\n",
              "    </tr>\n",
              "  </tbody>\n",
              "</table>\n",
              "<p>5 rows × 27 columns</p>\n",
              "</div>\n",
              "    <div class=\"colab-df-buttons\">\n",
              "\n",
              "  <div class=\"colab-df-container\">\n",
              "    <button class=\"colab-df-convert\" onclick=\"convertToInteractive('df-eaa3a850-6ec4-4e6f-a8d0-9be5558db862')\"\n",
              "            title=\"Convert this dataframe to an interactive table.\"\n",
              "            style=\"display:none;\">\n",
              "\n",
              "  <svg xmlns=\"http://www.w3.org/2000/svg\" height=\"24px\" viewBox=\"0 -960 960 960\">\n",
              "    <path d=\"M120-120v-720h720v720H120Zm60-500h600v-160H180v160Zm220 220h160v-160H400v160Zm0 220h160v-160H400v160ZM180-400h160v-160H180v160Zm440 0h160v-160H620v160ZM180-180h160v-160H180v160Zm440 0h160v-160H620v160Z\"/>\n",
              "  </svg>\n",
              "    </button>\n",
              "\n",
              "  <style>\n",
              "    .colab-df-container {\n",
              "      display:flex;\n",
              "      gap: 12px;\n",
              "    }\n",
              "\n",
              "    .colab-df-convert {\n",
              "      background-color: #E8F0FE;\n",
              "      border: none;\n",
              "      border-radius: 50%;\n",
              "      cursor: pointer;\n",
              "      display: none;\n",
              "      fill: #1967D2;\n",
              "      height: 32px;\n",
              "      padding: 0 0 0 0;\n",
              "      width: 32px;\n",
              "    }\n",
              "\n",
              "    .colab-df-convert:hover {\n",
              "      background-color: #E2EBFA;\n",
              "      box-shadow: 0px 1px 2px rgba(60, 64, 67, 0.3), 0px 1px 3px 1px rgba(60, 64, 67, 0.15);\n",
              "      fill: #174EA6;\n",
              "    }\n",
              "\n",
              "    .colab-df-buttons div {\n",
              "      margin-bottom: 4px;\n",
              "    }\n",
              "\n",
              "    [theme=dark] .colab-df-convert {\n",
              "      background-color: #3B4455;\n",
              "      fill: #D2E3FC;\n",
              "    }\n",
              "\n",
              "    [theme=dark] .colab-df-convert:hover {\n",
              "      background-color: #434B5C;\n",
              "      box-shadow: 0px 1px 3px 1px rgba(0, 0, 0, 0.15);\n",
              "      filter: drop-shadow(0px 1px 2px rgba(0, 0, 0, 0.3));\n",
              "      fill: #FFFFFF;\n",
              "    }\n",
              "  </style>\n",
              "\n",
              "    <script>\n",
              "      const buttonEl =\n",
              "        document.querySelector('#df-eaa3a850-6ec4-4e6f-a8d0-9be5558db862 button.colab-df-convert');\n",
              "      buttonEl.style.display =\n",
              "        google.colab.kernel.accessAllowed ? 'block' : 'none';\n",
              "\n",
              "      async function convertToInteractive(key) {\n",
              "        const element = document.querySelector('#df-eaa3a850-6ec4-4e6f-a8d0-9be5558db862');\n",
              "        const dataTable =\n",
              "          await google.colab.kernel.invokeFunction('convertToInteractive',\n",
              "                                                    [key], {});\n",
              "        if (!dataTable) return;\n",
              "\n",
              "        const docLinkHtml = 'Like what you see? Visit the ' +\n",
              "          '<a target=\"_blank\" href=https://colab.research.google.com/notebooks/data_table.ipynb>data table notebook</a>'\n",
              "          + ' to learn more about interactive tables.';\n",
              "        element.innerHTML = '';\n",
              "        dataTable['output_type'] = 'display_data';\n",
              "        await google.colab.output.renderOutput(dataTable, element);\n",
              "        const docLink = document.createElement('div');\n",
              "        docLink.innerHTML = docLinkHtml;\n",
              "        element.appendChild(docLink);\n",
              "      }\n",
              "    </script>\n",
              "  </div>\n",
              "\n",
              "\n",
              "<div id=\"df-e6584951-a8ec-440d-ba50-b30e21982caa\">\n",
              "  <button class=\"colab-df-quickchart\" onclick=\"quickchart('df-e6584951-a8ec-440d-ba50-b30e21982caa')\"\n",
              "            title=\"Suggest charts.\"\n",
              "            style=\"display:none;\">\n",
              "\n",
              "<svg xmlns=\"http://www.w3.org/2000/svg\" height=\"24px\"viewBox=\"0 0 24 24\"\n",
              "     width=\"24px\">\n",
              "    <g>\n",
              "        <path d=\"M19 3H5c-1.1 0-2 .9-2 2v14c0 1.1.9 2 2 2h14c1.1 0 2-.9 2-2V5c0-1.1-.9-2-2-2zM9 17H7v-7h2v7zm4 0h-2V7h2v10zm4 0h-2v-4h2v4z\"/>\n",
              "    </g>\n",
              "</svg>\n",
              "  </button>\n",
              "\n",
              "<style>\n",
              "  .colab-df-quickchart {\n",
              "      --bg-color: #E8F0FE;\n",
              "      --fill-color: #1967D2;\n",
              "      --hover-bg-color: #E2EBFA;\n",
              "      --hover-fill-color: #174EA6;\n",
              "      --disabled-fill-color: #AAA;\n",
              "      --disabled-bg-color: #DDD;\n",
              "  }\n",
              "\n",
              "  [theme=dark] .colab-df-quickchart {\n",
              "      --bg-color: #3B4455;\n",
              "      --fill-color: #D2E3FC;\n",
              "      --hover-bg-color: #434B5C;\n",
              "      --hover-fill-color: #FFFFFF;\n",
              "      --disabled-bg-color: #3B4455;\n",
              "      --disabled-fill-color: #666;\n",
              "  }\n",
              "\n",
              "  .colab-df-quickchart {\n",
              "    background-color: var(--bg-color);\n",
              "    border: none;\n",
              "    border-radius: 50%;\n",
              "    cursor: pointer;\n",
              "    display: none;\n",
              "    fill: var(--fill-color);\n",
              "    height: 32px;\n",
              "    padding: 0;\n",
              "    width: 32px;\n",
              "  }\n",
              "\n",
              "  .colab-df-quickchart:hover {\n",
              "    background-color: var(--hover-bg-color);\n",
              "    box-shadow: 0 1px 2px rgba(60, 64, 67, 0.3), 0 1px 3px 1px rgba(60, 64, 67, 0.15);\n",
              "    fill: var(--button-hover-fill-color);\n",
              "  }\n",
              "\n",
              "  .colab-df-quickchart-complete:disabled,\n",
              "  .colab-df-quickchart-complete:disabled:hover {\n",
              "    background-color: var(--disabled-bg-color);\n",
              "    fill: var(--disabled-fill-color);\n",
              "    box-shadow: none;\n",
              "  }\n",
              "\n",
              "  .colab-df-spinner {\n",
              "    border: 2px solid var(--fill-color);\n",
              "    border-color: transparent;\n",
              "    border-bottom-color: var(--fill-color);\n",
              "    animation:\n",
              "      spin 1s steps(1) infinite;\n",
              "  }\n",
              "\n",
              "  @keyframes spin {\n",
              "    0% {\n",
              "      border-color: transparent;\n",
              "      border-bottom-color: var(--fill-color);\n",
              "      border-left-color: var(--fill-color);\n",
              "    }\n",
              "    20% {\n",
              "      border-color: transparent;\n",
              "      border-left-color: var(--fill-color);\n",
              "      border-top-color: var(--fill-color);\n",
              "    }\n",
              "    30% {\n",
              "      border-color: transparent;\n",
              "      border-left-color: var(--fill-color);\n",
              "      border-top-color: var(--fill-color);\n",
              "      border-right-color: var(--fill-color);\n",
              "    }\n",
              "    40% {\n",
              "      border-color: transparent;\n",
              "      border-right-color: var(--fill-color);\n",
              "      border-top-color: var(--fill-color);\n",
              "    }\n",
              "    60% {\n",
              "      border-color: transparent;\n",
              "      border-right-color: var(--fill-color);\n",
              "    }\n",
              "    80% {\n",
              "      border-color: transparent;\n",
              "      border-right-color: var(--fill-color);\n",
              "      border-bottom-color: var(--fill-color);\n",
              "    }\n",
              "    90% {\n",
              "      border-color: transparent;\n",
              "      border-bottom-color: var(--fill-color);\n",
              "    }\n",
              "  }\n",
              "</style>\n",
              "\n",
              "  <script>\n",
              "    async function quickchart(key) {\n",
              "      const quickchartButtonEl =\n",
              "        document.querySelector('#' + key + ' button');\n",
              "      quickchartButtonEl.disabled = true;  // To prevent multiple clicks.\n",
              "      quickchartButtonEl.classList.add('colab-df-spinner');\n",
              "      try {\n",
              "        const charts = await google.colab.kernel.invokeFunction(\n",
              "            'suggestCharts', [key], {});\n",
              "      } catch (error) {\n",
              "        console.error('Error during call to suggestCharts:', error);\n",
              "      }\n",
              "      quickchartButtonEl.classList.remove('colab-df-spinner');\n",
              "      quickchartButtonEl.classList.add('colab-df-quickchart-complete');\n",
              "    }\n",
              "    (() => {\n",
              "      let quickchartButtonEl =\n",
              "        document.querySelector('#df-e6584951-a8ec-440d-ba50-b30e21982caa button');\n",
              "      quickchartButtonEl.style.display =\n",
              "        google.colab.kernel.accessAllowed ? 'block' : 'none';\n",
              "    })();\n",
              "  </script>\n",
              "</div>\n",
              "\n",
              "    </div>\n",
              "  </div>\n"
            ]
          },
          "metadata": {},
          "execution_count": 3
        }
      ]
    },
    {
      "cell_type": "code",
      "source": [
        "# Checking for missing values\n",
        "missing_values = data.isnull().sum()\n",
        "\n",
        "# Summary statistics\n",
        "summary_stats = data.describe(include='all')\n",
        "\n",
        "missing_values, summary_stats"
      ],
      "metadata": {
        "colab": {
          "base_uri": "https://localhost:8080/"
        },
        "id": "BjCNVytWIRHT",
        "outputId": "a7af04f0-d2f9-47c7-e277-8f34d1694289"
      },
      "execution_count": 4,
      "outputs": [
        {
          "output_type": "execute_result",
          "data": {
            "text/plain": [
              "(patient_id                          0\n",
              " age_at_diagnosis                    0\n",
              " type_of_breast_surgery             22\n",
              " cancer_type                         0\n",
              " cancer_type_detailed               15\n",
              " cellularity                        54\n",
              " chemotherapy                        0\n",
              " pam50_+_claudin-low_subtype         0\n",
              " cohort                              0\n",
              " er_status_measured_by_ihc          30\n",
              " er_status                           0\n",
              " neoplasm_histologic_grade          72\n",
              " her2_status_measured_by_snp6        0\n",
              " her2_status                         0\n",
              " tumor_other_histologic_subtype     15\n",
              " hormone_therapy                     0\n",
              " inferred_menopausal_state           0\n",
              " integrative_cluster                 0\n",
              " primary_tumor_laterality          106\n",
              " lymph_nodes_examined_positive       0\n",
              " mutation_count                     45\n",
              " nottingham_prognostic_index         0\n",
              " oncotree_code                      15\n",
              " overall_survival_months             0\n",
              " overall_survival                    0\n",
              " pr_status                           0\n",
              " radio_therapy                       0\n",
              " dtype: int64,\n",
              "          patient_id  age_at_diagnosis type_of_breast_surgery    cancer_type  \\\n",
              " count   1904.000000       1904.000000                   1882           1904   \n",
              " unique          NaN               NaN                      2              2   \n",
              " top             NaN               NaN             MASTECTOMY  Breast Cancer   \n",
              " freq            NaN               NaN                   1127           1903   \n",
              " mean    3921.982143         61.087054                    NaN            NaN   \n",
              " std     2358.478332         12.978711                    NaN            NaN   \n",
              " min        0.000000         21.930000                    NaN            NaN   \n",
              " 25%      896.500000         51.375000                    NaN            NaN   \n",
              " 50%     4730.500000         61.770000                    NaN            NaN   \n",
              " 75%     5536.250000         70.592500                    NaN            NaN   \n",
              " max     7299.000000         96.290000                    NaN            NaN   \n",
              " \n",
              "                     cancer_type_detailed cellularity  chemotherapy  \\\n",
              " count                               1889        1850   1904.000000   \n",
              " unique                                 6           3           NaN   \n",
              " top     Breast Invasive Ductal Carcinoma        High           NaN   \n",
              " freq                                1500         939           NaN   \n",
              " mean                                 NaN         NaN      0.207983   \n",
              " std                                  NaN         NaN      0.405971   \n",
              " min                                  NaN         NaN      0.000000   \n",
              " 25%                                  NaN         NaN      0.000000   \n",
              " 50%                                  NaN         NaN      0.000000   \n",
              " 75%                                  NaN         NaN      0.000000   \n",
              " max                                  NaN         NaN      1.000000   \n",
              " \n",
              "        pam50_+_claudin-low_subtype       cohort er_status_measured_by_ihc  \\\n",
              " count                         1904  1904.000000                      1874   \n",
              " unique                           7          NaN                         2   \n",
              " top                           LumA          NaN                   Positve   \n",
              " freq                           679          NaN                      1445   \n",
              " mean                           NaN     2.643908                       NaN   \n",
              " std                            NaN     1.228615                       NaN   \n",
              " min                            NaN     1.000000                       NaN   \n",
              " 25%                            NaN     1.000000                       NaN   \n",
              " 50%                            NaN     3.000000                       NaN   \n",
              " 75%                            NaN     3.000000                       NaN   \n",
              " max                            NaN     5.000000                       NaN   \n",
              " \n",
              "         ... integrative_cluster  primary_tumor_laterality  \\\n",
              " count   ...                1904                      1798   \n",
              " unique  ...                  11                         2   \n",
              " top     ...                   8                      Left   \n",
              " freq    ...                 289                       935   \n",
              " mean    ...                 NaN                       NaN   \n",
              " std     ...                 NaN                       NaN   \n",
              " min     ...                 NaN                       NaN   \n",
              " 25%     ...                 NaN                       NaN   \n",
              " 50%     ...                 NaN                       NaN   \n",
              " 75%     ...                 NaN                       NaN   \n",
              " max     ...                 NaN                       NaN   \n",
              " \n",
              "        lymph_nodes_examined_positive mutation_count  \\\n",
              " count                    1904.000000    1859.000000   \n",
              " unique                           NaN            NaN   \n",
              " top                              NaN            NaN   \n",
              " freq                             NaN            NaN   \n",
              " mean                        2.002101       5.697687   \n",
              " std                         4.079993       4.058778   \n",
              " min                         0.000000       1.000000   \n",
              " 25%                         0.000000       3.000000   \n",
              " 50%                         0.000000       5.000000   \n",
              " 75%                         2.000000       7.000000   \n",
              " max                        45.000000      80.000000   \n",
              " \n",
              "        nottingham_prognostic_index  oncotree_code overall_survival_months  \\\n",
              " count                  1904.000000           1889             1904.000000   \n",
              " unique                         NaN              6                     NaN   \n",
              " top                            NaN            IDC                     NaN   \n",
              " freq                           NaN           1500                     NaN   \n",
              " mean                      4.033019            NaN              125.121324   \n",
              " std                       1.144492            NaN               76.334148   \n",
              " min                       1.000000            NaN                0.000000   \n",
              " 25%                       3.046000            NaN               60.825000   \n",
              " 50%                       4.042000            NaN              115.616667   \n",
              " 75%                       5.040250            NaN              184.716667   \n",
              " max                       6.360000            NaN              355.200000   \n",
              " \n",
              "        overall_survival pr_status  radio_therapy  \n",
              " count       1904.000000      1904    1904.000000  \n",
              " unique              NaN         2            NaN  \n",
              " top                 NaN  Positive            NaN  \n",
              " freq                NaN      1009            NaN  \n",
              " mean           0.420693       NaN       0.597164  \n",
              " std            0.493800       NaN       0.490597  \n",
              " min            0.000000       NaN       0.000000  \n",
              " 25%            0.000000       NaN       0.000000  \n",
              " 50%            0.000000       NaN       1.000000  \n",
              " 75%            1.000000       NaN       1.000000  \n",
              " max            1.000000       NaN       1.000000  \n",
              " \n",
              " [11 rows x 27 columns])"
            ]
          },
          "metadata": {},
          "execution_count": 4
        }
      ]
    },
    {
      "cell_type": "markdown",
      "source": [
        "**Explore**"
      ],
      "metadata": {
        "id": "kyt6xh1BIcfk"
      }
    },
    {
      "cell_type": "markdown",
      "source": [
        "**Below blocks of code is to visually inspect the data to identify patterns, relationships, anomalies, or any other insights**"
      ],
      "metadata": {
        "id": "5AwpdLcILCbC"
      }
    },
    {
      "cell_type": "code",
      "source": [
        "import matplotlib.pyplot as plt\n",
        "import seaborn as sns\n",
        "\n",
        "# Setting the aesthetics for the plots\n",
        "sns.set_style(\"whitegrid\")\n",
        "\n",
        "# Plotting the distribution of age_at_diagnosis\n",
        "plt.figure(figsize=(10, 6))\n",
        "sns.histplot(data['age_at_diagnosis'], kde=True, bins=30, color='skyblue')\n",
        "plt.title('Distribution of Age at Diagnosis')\n",
        "plt.xlabel('Age at Diagnosis')\n",
        "plt.ylabel('Frequency')\n",
        "plt.show()"
      ],
      "metadata": {
        "colab": {
          "base_uri": "https://localhost:8080/",
          "height": 564
        },
        "id": "_jgAqSiSIZjk",
        "outputId": "32fc8631-0ecc-41d0-fe8e-cc26d071d64b"
      },
      "execution_count": 5,
      "outputs": [
        {
          "output_type": "display_data",
          "data": {
            "text/plain": [
              "<Figure size 1000x600 with 1 Axes>"
            ],
            "image/png": "[encoded data removed]"
          },
          "metadata": {}
        }
      ]
    },
    {
      "cell_type": "code",
      "source": [
        "# Plotting the distribution of mutation_count (excluding missing values)\n",
        "plt.figure(figsize=(10, 6))\n",
        "sns.histplot(data['mutation_count'].dropna(), kde=True, bins=30, color='salmon')\n",
        "plt.title('Distribution of Mutation Count')\n",
        "plt.xlabel('Mutation Count')\n",
        "plt.ylabel('Frequency')\n",
        "plt.show()"
      ],
      "metadata": {
        "colab": {
          "base_uri": "https://localhost:8080/",
          "height": 564
        },
        "id": "2Iq6RxLXIjJE",
        "outputId": "a1927053-709a-4367-929b-46eb229d5ddb"
      },
      "execution_count": 6,
      "outputs": [
        {
          "output_type": "display_data",
          "data": {
            "text/plain": [
              "<Figure size 1000x600 with 1 Axes>"
            ],
            "image/png": "[encoded data removed]"
          },
          "metadata": {}
        }
      ]
    },
    {
      "cell_type": "code",
      "source": [
        "# Plotting the distribution of age_at_diagnosis based on overall_survival status\n",
        "plt.figure(figsize=(12, 7))\n",
        "sns.histplot(data, x='age_at_diagnosis', hue='overall_survival', element='step', stat=\"density\", common_norm=False)\n",
        "plt.title('Distribution of Age at Diagnosis by Survival Status')\n",
        "plt.xlabel('Age at Diagnosis')\n",
        "plt.ylabel('Density')\n",
        "plt.legend(title='Overall Survival', labels=['Did not survive', 'Survived'])\n",
        "plt.show()"
      ],
      "metadata": {
        "colab": {
          "base_uri": "https://localhost:8080/",
          "height": 641
        },
        "id": "_pug1aWyIoI8",
        "outputId": "98bb7ffe-bd30-433b-9341-267ab065de04"
      },
      "execution_count": 7,
      "outputs": [
        {
          "output_type": "display_data",
          "data": {
            "text/plain": [
              "<Figure size 1200x700 with 1 Axes>"
            ],
            "image/png": "[encoded data removed]"
          },
          "metadata": {}
        }
      ]
    },
    {
      "cell_type": "markdown",
      "source": [
        "**Modify**"
      ],
      "metadata": {
        "id": "GjkULPvDIxBt"
      }
    },
    {
      "cell_type": "markdown",
      "source": [
        "**Below blocks of code addresses the missing values and prepare the dataset for modeling, feature engineering, Encoding categorical variables**"
      ],
      "metadata": {
        "id": "w_TH4_eOLV7Z"
      }
    },
    {
      "cell_type": "code",
      "source": [
        "# Imputing missing values\n",
        "\n",
        "# For numerical columns\n",
        "for col in data.select_dtypes(include=['float64', 'int64']).columns:\n",
        "    median_value = data[col].median()\n",
        "    data[col].fillna(median_value, inplace=True)\n",
        "\n",
        "# For categorical columns\n",
        "for col in data.select_dtypes(include=['object']).columns:\n",
        "    mode_value = data[col].mode()[0]\n",
        "    data[col].fillna(mode_value, inplace=True)\n",
        "\n",
        "# Check if there are any missing values left\n",
        "missing_after_imputation = data.isnull().sum()\n",
        "\n",
        "missing_after_imputation"
      ],
      "metadata": {
        "colab": {
          "base_uri": "https://localhost:8080/"
        },
        "id": "LBaespQzIui7",
        "outputId": "196de6fa-4453-4050-82d7-9541aa16b7d4"
      },
      "execution_count": 8,
      "outputs": [
        {
          "output_type": "execute_result",
          "data": {
            "text/plain": [
              "patient_id                        0\n",
              "age_at_diagnosis                  0\n",
              "type_of_breast_surgery            0\n",
              "cancer_type                       0\n",
              "cancer_type_detailed              0\n",
              "cellularity                       0\n",
              "chemotherapy                      0\n",
              "pam50_+_claudin-low_subtype       0\n",
              "cohort                            0\n",
              "er_status_measured_by_ihc         0\n",
              "er_status                         0\n",
              "neoplasm_histologic_grade         0\n",
              "her2_status_measured_by_snp6      0\n",
              "her2_status                       0\n",
              "tumor_other_histologic_subtype    0\n",
              "hormone_therapy                   0\n",
              "inferred_menopausal_state         0\n",
              "integrative_cluster               0\n",
              "primary_tumor_laterality          0\n",
              "lymph_nodes_examined_positive     0\n",
              "mutation_count                    0\n",
              "nottingham_prognostic_index       0\n",
              "oncotree_code                     0\n",
              "overall_survival_months           0\n",
              "overall_survival                  0\n",
              "pr_status                         0\n",
              "radio_therapy                     0\n",
              "dtype: int64"
            ]
          },
          "metadata": {},
          "execution_count": 8
        }
      ]
    },
    {
      "cell_type": "code",
      "source": [
        "# One-Hot Encoding of categorical variables\n",
        "data_encoded = pd.get_dummies(data, drop_first=True)\n",
        "\n",
        "# Displaying the shape and first few rows of the encoded data\n",
        "data_encoded.shape, data_encoded.head()"
      ],
      "metadata": {
        "colab": {
          "base_uri": "https://localhost:8080/"
        },
        "id": "JdWeP4I8I2Ds",
        "outputId": "d21e698b-2e36-4625-bbee-55335989b671"
      },
      "execution_count": 9,
      "outputs": [
        {
          "output_type": "execute_result",
          "data": {
            "text/plain": [
              "((1904, 58),\n",
              "    patient_id  age_at_diagnosis  chemotherapy  cohort  \\\n",
              " 0           0             75.65             0       1   \n",
              " 1           2             43.19             0       1   \n",
              " 2           5             48.87             1       1   \n",
              " 3           6             47.68             1       1   \n",
              " 4           8             76.97             1       1   \n",
              " \n",
              "    neoplasm_histologic_grade  hormone_therapy  lymph_nodes_examined_positive  \\\n",
              " 0                        3.0                1                             10   \n",
              " 1                        3.0                1                              0   \n",
              " 2                        2.0                1                              1   \n",
              " 3                        2.0                1                              3   \n",
              " 4                        3.0                1                              8   \n",
              " \n",
              "    mutation_count  nottingham_prognostic_index  overall_survival_months  ...  \\\n",
              " 0             5.0                        6.044               140.500000  ...   \n",
              " 1             2.0                        4.020                84.633333  ...   \n",
              " 2             2.0                        4.030               163.700000  ...   \n",
              " 3             1.0                        4.050               164.933333  ...   \n",
              " 4             2.0                        6.080                41.366667  ...   \n",
              " \n",
              "    integrative_cluster_7  integrative_cluster_8  integrative_cluster_9  \\\n",
              " 0                      0                      0                      0   \n",
              " 1                      0                      0                      0   \n",
              " 2                      0                      0                      0   \n",
              " 3                      0                      0                      1   \n",
              " 4                      0                      0                      1   \n",
              " \n",
              "    primary_tumor_laterality_Right  oncotree_code_IDC  oncotree_code_ILC  \\\n",
              " 0                               1                  1                  0   \n",
              " 1                               1                  1                  0   \n",
              " 2                               1                  1                  0   \n",
              " 3                               1                  0                  0   \n",
              " 4                               1                  0                  0   \n",
              " \n",
              "    oncotree_code_IMMC  oncotree_code_MBC  oncotree_code_MDLC  \\\n",
              " 0                   0                  0                   0   \n",
              " 1                   0                  0                   0   \n",
              " 2                   0                  0                   0   \n",
              " 3                   0                  0                   1   \n",
              " 4                   0                  0                   1   \n",
              " \n",
              "    pr_status_Positive  \n",
              " 0                   0  \n",
              " 1                   1  \n",
              " 2                   1  \n",
              " 3                   1  \n",
              " 4                   1  \n",
              " \n",
              " [5 rows x 58 columns])"
            ]
          },
          "metadata": {},
          "execution_count": 9
        }
      ]
    },
    {
      "cell_type": "markdown",
      "source": [
        "**Model**"
      ],
      "metadata": {
        "id": "Hl_6dXX9JAoL"
      }
    },
    {
      "cell_type": "markdown",
      "source": [
        "**Below blocks of code will: Split the data into training and testing sets. Train a machine learning model on the training data. Predict outcomes on the testing data.**"
      ],
      "metadata": {
        "id": "5kmX9iYgL7jH"
      }
    },
    {
      "cell_type": "code",
      "source": [
        "from sklearn.model_selection import train_test_split\n",
        "\n",
        "# Features (X) and target variable (y)\n",
        "X = data_encoded.drop('overall_survival', axis=1)\n",
        "y = data_encoded['overall_survival']\n",
        "\n",
        "# Splitting the data\n",
        "X_train, X_test, y_train, y_test = train_test_split(X, y, test_size=0.2, random_state=42)\n",
        "\n",
        "X_train.shape, X_test.shape"
      ],
      "metadata": {
        "colab": {
          "base_uri": "https://localhost:8080/"
        },
        "id": "Tvn1YxPuI9Q7",
        "outputId": "41ff3d8c-28af-4123-e204-b60558dedde1"
      },
      "execution_count": 10,
      "outputs": [
        {
          "output_type": "execute_result",
          "data": {
            "text/plain": [
              "((1523, 57), (381, 57))"
            ]
          },
          "metadata": {},
          "execution_count": 10
        }
      ]
    },
    {
      "cell_type": "code",
      "source": [
        "from sklearn.linear_model import LogisticRegression\n",
        "from sklearn.preprocessing import StandardScaler\n",
        "from sklearn.pipeline import make_pipeline\n",
        "\n",
        "# Creating a logistic regression model with standard scaling (important for logistic regression)\n",
        "model = make_pipeline(StandardScaler(), LogisticRegression(max_iter=1000, random_state=42))\n",
        "\n",
        "# Training the model\n",
        "model.fit(X_train, y_train)"
      ],
      "metadata": {
        "colab": {
          "base_uri": "https://localhost:8080/",
          "height": 229
        },
        "id": "YsHpyIAJJHTj",
        "outputId": "a6c983d1-292d-411e-f001-8a610c5b4319"
      },
      "execution_count": 11,
      "outputs": [
        {
          "output_type": "execute_result",
          "data": {
            "text/plain": [
              "Pipeline(steps=[('standardscaler', StandardScaler()),\n",
              "                ('logisticregression',\n",
              "                 LogisticRegression(max_iter=1000, random_state=42))])"
            ],
            "text/html": [
              "<style>#sk-container-id-1 {color: black;background-color: white;}#sk-container-id-1 pre{padding: 0;}#sk-container-id-1 div.sk-toggleable {background-color: white;}#sk-container-id-1 label.sk-toggleable__label {cursor: pointer;display: block;width: 100%;margin-bottom: 0;padding: 0.3em;box-sizing: border-box;text-align: center;}#sk-container-id-1 label.sk-toggleable__label-arrow:before {content: \"▸\";float: left;margin-right: 0.25em;color: #696969;}#sk-container-id-1 label.sk-toggleable__label-arrow:hover:before {color: black;}#sk-container-id-1 div.sk-estimator:hover label.sk-toggleable__label-arrow:before {color: black;}#sk-container-id-1 div.sk-toggleable__content {max-height: 0;max-width: 0;overflow: hidden;text-align: left;background-color: #f0f8ff;}#sk-container-id-1 div.sk-toggleable__content pre {margin: 0.2em;color: black;border-radius: 0.25em;background-color: #f0f8ff;}#sk-container-id-1 input.sk-toggleable__control:checked~div.sk-toggleable__content {max-height: 200px;max-width: 100%;overflow: auto;}#sk-container-id-1 input.sk-toggleable__control:checked~label.sk-toggleable__label-arrow:before {content: \"▾\";}#sk-container-id-1 div.sk-estimator input.sk-toggleable__control:checked~label.sk-toggleable__label {background-color: #d4ebff;}#sk-container-id-1 div.sk-label input.sk-toggleable__control:checked~label.sk-toggleable__label {background-color: #d4ebff;}#sk-container-id-1 input.sk-hidden--visually {border: 0;clip: rect(1px 1px 1px 1px);clip: rect(1px, 1px, 1px, 1px);height: 1px;margin: -1px;overflow: hidden;padding: 0;position: absolute;width: 1px;}#sk-container-id-1 div.sk-estimator {font-family: monospace;background-color: #f0f8ff;border: 1px dotted black;border-radius: 0.25em;box-sizing: border-box;margin-bottom: 0.5em;}#sk-container-id-1 div.sk-estimator:hover {background-color: #d4ebff;}#sk-container-id-1 div.sk-parallel-item::after {content: \"\";width: 100%;border-bottom: 1px solid gray;flex-grow: 1;}#sk-container-id-1 div.sk-label:hover label.sk-toggleable__label {background-color: #d4ebff;}#sk-container-id-1 div.sk-serial::before {content: \"\";position: absolute;border-left: 1px solid gray;box-sizing: border-box;top: 0;bottom: 0;left: 50%;z-index: 0;}#sk-container-id-1 div.sk-serial {display: flex;flex-direction: column;align-items: center;background-color: white;padding-right: 0.2em;padding-left: 0.2em;position: relative;}#sk-container-id-1 div.sk-item {position: relative;z-index: 1;}#sk-container-id-1 div.sk-parallel {display: flex;align-items: stretch;justify-content: center;background-color: white;position: relative;}#sk-container-id-1 div.sk-item::before, #sk-container-id-1 div.sk-parallel-item::before {content: \"\";position: absolute;border-left: 1px solid gray;box-sizing: border-box;top: 0;bottom: 0;left: 50%;z-index: -1;}#sk-container-id-1 div.sk-parallel-item {display: flex;flex-direction: column;z-index: 1;position: relative;background-color: white;}#sk-container-id-1 div.sk-parallel-item:first-child::after {align-self: flex-end;width: 50%;}#sk-container-id-1 div.sk-parallel-item:last-child::after {align-self: flex-start;width: 50%;}#sk-container-id-1 div.sk-parallel-item:only-child::after {width: 0;}#sk-container-id-1 div.sk-dashed-wrapped {border: 1px dashed gray;margin: 0 0.4em 0.5em 0.4em;box-sizing: border-box;padding-bottom: 0.4em;background-color: white;}#sk-container-id-1 div.sk-label label {font-family: monospace;font-weight: bold;display: inline-block;line-height: 1.2em;}#sk-container-id-1 div.sk-label-container {text-align: center;}#sk-container-id-1 div.sk-container {/* jupyter's `normalize.less` sets `[hidden] { display: none; }` but bootstrap.min.css set `[hidden] { display: none !important; }` so we also need the `!important` here to be able to override the default hidden behavior on the sphinx rendered scikit-learn.org. See: https://github.com/scikit-learn/scikit-learn/issues/21755 */display: inline-block !important;position: relative;}#sk-container-id-1 div.sk-text-repr-fallback {display: none;}</style><div id=\"sk-container-id-1\" class=\"sk-top-container\"><div class=\"sk-text-repr-fallback\"><pre>Pipeline(steps=[(&#x27;standardscaler&#x27;, StandardScaler()),\n",
              "                (&#x27;logisticregression&#x27;,\n",
              "                 LogisticRegression(max_iter=1000, random_state=42))])</pre><b>In a Jupyter environment, please rerun this cell to show the HTML representation or trust the notebook. <br />On GitHub, the HTML representation is unable to render, please try loading this page with nbviewer.org.</b></div><div class=\"sk-container\" hidden><div class=\"sk-item sk-dashed-wrapped\"><div class=\"sk-label-container\"><div class=\"sk-label sk-toggleable\"><input class=\"sk-toggleable__control sk-hidden--visually\" id=\"sk-estimator-id-1\" type=\"checkbox\" ><label for=\"sk-estimator-id-1\" class=\"sk-toggleable__label sk-toggleable__label-arrow\">Pipeline</label><div class=\"sk-toggleable__content\"><pre>Pipeline(steps=[(&#x27;standardscaler&#x27;, StandardScaler()),\n",
              "                (&#x27;logisticregression&#x27;,\n",
              "                 LogisticRegression(max_iter=1000, random_state=42))])</pre></div></div></div><div class=\"sk-serial\"><div class=\"sk-item\"><div class=\"sk-estimator sk-toggleable\"><input class=\"sk-toggleable__control sk-hidden--visually\" id=\"sk-estimator-id-2\" type=\"checkbox\" ><label for=\"sk-estimator-id-2\" class=\"sk-toggleable__label sk-toggleable__label-arrow\">StandardScaler</label><div class=\"sk-toggleable__content\"><pre>StandardScaler()</pre></div></div></div><div class=\"sk-item\"><div class=\"sk-estimator sk-toggleable\"><input class=\"sk-toggleable__control sk-hidden--visually\" id=\"sk-estimator-id-3\" type=\"checkbox\" ><label for=\"sk-estimator-id-3\" class=\"sk-toggleable__label sk-toggleable__label-arrow\">LogisticRegression</label><div class=\"sk-toggleable__content\"><pre>LogisticRegression(max_iter=1000, random_state=42)</pre></div></div></div></div></div></div></div>"
            ]
          },
          "metadata": {},
          "execution_count": 11
        }
      ]
    },
    {
      "cell_type": "code",
      "source": [
        "# Predicting the class labels\n",
        "y_pred = model.predict(X_test)\n",
        "\n",
        "# Predicting the probabilities\n",
        "y_prob = model.predict_proba(X_test)[:, 1]\n",
        "\n",
        "y_pred[:10], y_prob[:10]  # Displaying the first 10 predictions and probabilities"
      ],
      "metadata": {
        "colab": {
          "base_uri": "https://localhost:8080/"
        },
        "id": "407BjzS8JRxC",
        "outputId": "0b4ea624-5af8-47c0-9198-e0d6c1426fe8"
      },
      "execution_count": 12,
      "outputs": [
        {
          "output_type": "execute_result",
          "data": {
            "text/plain": [
              "(array([0, 0, 1, 1, 0, 0, 0, 1, 0, 0]),\n",
              " array([0.32764147, 0.12036426, 0.54345581, 0.76959773, 0.39794809,\n",
              "        0.25262393, 0.27244495, 0.75505388, 0.15382343, 0.22087716]))"
            ]
          },
          "metadata": {},
          "execution_count": 12
        }
      ]
    },
    {
      "cell_type": "markdown",
      "source": [
        "**Assess**"
      ],
      "metadata": {
        "id": "pgR9xa48Jb4J"
      }
    },
    {
      "cell_type": "markdown",
      "source": [
        "**The below blocks of code will evaluate the model's performance using various metrics: Accuracy, Precision, Recall, and F1-score, ROC curve and AUC**"
      ],
      "metadata": {
        "id": "ZllxsZ5QMd02"
      }
    },
    {
      "cell_type": "code",
      "source": [
        "from sklearn.metrics import accuracy_score, precision_score, recall_score, f1_score\n",
        "\n",
        "# Calculating metrics\n",
        "accuracy = accuracy_score(y_test, y_pred)\n",
        "precision = precision_score(y_test, y_pred)\n",
        "recall = recall_score(y_test, y_pred)\n",
        "f1 = f1_score(y_test, y_pred)\n",
        "\n",
        "accuracy, precision, recall, f1"
      ],
      "metadata": {
        "colab": {
          "base_uri": "https://localhost:8080/"
        },
        "id": "F74yGvSLJcpq",
        "outputId": "73c9af49-73e3-4032-e9f9-b75bf728a61e"
      },
      "execution_count": 13,
      "outputs": [
        {
          "output_type": "execute_result",
          "data": {
            "text/plain": [
              "(0.7585301837270341,\n",
              " 0.6870748299319728,\n",
              " 0.6870748299319728,\n",
              " 0.6870748299319728)"
            ]
          },
          "metadata": {},
          "execution_count": 13
        }
      ]
    },
    {
      "cell_type": "code",
      "source": [
        "from sklearn.metrics import roc_curve, roc_auc_score\n",
        "\n",
        "# Calculating the ROC curve values\n",
        "fpr, tpr, thresholds = roc_curve(y_test, y_prob)\n",
        "\n",
        "# Calculating AUC\n",
        "auc = roc_auc_score(y_test, y_prob)\n",
        "\n",
        "# Plotting the ROC curve\n",
        "plt.figure(figsize=(10, 7))\n",
        "plt.plot(fpr, tpr, color='darkorange', lw=2, label=f'ROC curve (AUC = {auc:.2f})')\n",
        "plt.plot([0, 1], [0, 1], color='navy', lw=2, linestyle='--')\n",
        "plt.xlabel('False Positive Rate')\n",
        "plt.ylabel('True Positive Rate')\n",
        "plt.title('Receiver Operating Characteristic (ROC) Curve')\n",
        "plt.legend(loc='lower right')\n",
        "plt.show()"
      ],
      "metadata": {
        "colab": {
          "base_uri": "https://localhost:8080/",
          "height": 641
        },
        "id": "G8-DO-O3JgXB",
        "outputId": "768b16d6-add8-4627-e0ff-0a9b885bf6bf"
      },
      "execution_count": 14,
      "outputs": [
        {
          "output_type": "display_data",
          "data": {
            "text/plain": [
              "<Figure size 1000x700 with 1 Axes>"
            ],
            "image/png": "[encoded data removed]"
          },
          "metadata": {}
        }
      ]
    }
  ]
}